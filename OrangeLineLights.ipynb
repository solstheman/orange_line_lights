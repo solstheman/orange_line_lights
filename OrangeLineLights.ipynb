{
 "cells": [
  {
   "cell_type": "code",
   "execution_count": 134,
   "id": "8921a8bf-8d75-413f-a996-12b4a5a72d75",
   "metadata": {},
   "outputs": [],
   "source": [
    "import pandas\n",
    "from google.transit import gtfs_realtime_pb2\n",
    "from urllib.request import urlopen\n",
    "from protobuf_to_dict import protobuf_to_dict"
   ]
  },
  {
   "cell_type": "code",
   "execution_count": 29,
   "id": "79bf5b33-d702-4acc-b4c3-b10434ad67e9",
   "metadata": {},
   "outputs": [],
   "source": [
    "stops = pd.read_csv('stops.txt')"
   ]
  },
  {
   "cell_type": "code",
   "execution_count": 99,
   "id": "fae80e98-c774-4581-98c5-d87b49a21b88",
   "metadata": {},
   "outputs": [],
   "source": [
    "orange_line_stops = stops[(stops['platform_name'] == 'Orange Line') | (stops['platform_name'] == 'Forest Hills') | (stops['platform_name'] == 'Oak Grove') | stops['stop_id'].str.contains('Forest Hills-0') | stops['stop_id'].str.contains('Oak Grove-0')]"
   ]
  },
  {
   "cell_type": "code",
   "execution_count": 204,
   "id": "e031c9ee-445e-4c90-8f89-4d8840d0d94d",
   "metadata": {},
   "outputs": [
    {
     "name": "stdout",
     "output_type": "stream",
     "text": [
      "Current Stop: Wellington\n",
      "Current Stop: Ruggles\n",
      "Current Stop: Haymarket\n",
      "Current Stop: Sullivan Square\n",
      "Current Stop: Jackson Square\n",
      "Current Stop: Malden Center\n",
      "Current Stop: Community College\n",
      "Current Stop: Oak Grove\n",
      "Current Stop: Forest Hills\n",
      "Current Stop: Forest Hills\n",
      "Current Stop: State\n",
      "Current Stop: Back Bay\n"
     ]
    }
   ],
   "source": [
    "feed = gtfs_realtime_pb2.FeedMessage()\n",
    "response = urlopen('https://cdn.mbta.com/realtime/VehiclePositions.pb')\n",
    "feed.ParseFromString(response.read())\n",
    "feed_dict = protobuf_to_dict(feed)\n",
    "vehicle_df = pd.json_normalize(feed_dict['entity'])\n",
    "filtered_vehicles = vehicle_df[vehicle_df['vehicle.trip.route_id'] == 'Orange']\n",
    "for ind, vehicle in filtered_vehicles.iterrows():\n",
    "    print('Current Stop: ' + orange_line_stops[orange_line_stops['stop_id'] == vehicle['vehicle.stop_id']]['stop_name'].values[0])"
   ]
  },
  {
   "cell_type": "code",
   "execution_count": 207,
   "id": "6fbadc1f-236f-4b1e-9667-a1ba5236ac0d",
   "metadata": {},
   "outputs": [
    {
     "data": {
      "text/plain": [
       "(42, 19)"
      ]
     },
     "execution_count": 207,
     "metadata": {},
     "output_type": "execute_result"
    }
   ],
   "source": [
    "orange_line_stops.shape"
   ]
  }
 ],
 "metadata": {
  "kernelspec": {
   "display_name": "Python 3 (ipykernel)",
   "language": "python",
   "name": "python3"
  },
  "language_info": {
   "codemirror_mode": {
    "name": "ipython",
    "version": 3
   },
   "file_extension": ".py",
   "mimetype": "text/x-python",
   "name": "python",
   "nbconvert_exporter": "python",
   "pygments_lexer": "ipython3",
   "version": "3.8.10"
  }
 },
 "nbformat": 4,
 "nbformat_minor": 5
}
