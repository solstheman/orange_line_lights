{
 "cells": [
  {
   "cell_type": "code",
   "execution_count": 1,
   "id": "8921a8bf-8d75-413f-a996-12b4a5a72d75",
   "metadata": {},
   "outputs": [],
   "source": [
    "import pandas as pd\n",
    "from google.transit import gtfs_realtime_pb2\n",
    "from urllib.request import urlopen\n",
    "from protobuf_to_dict import protobuf_to_dict"
   ]
  },
  {
   "cell_type": "code",
   "execution_count": 2,
   "id": "79bf5b33-d702-4acc-b4c3-b10434ad67e9",
   "metadata": {},
   "outputs": [],
   "source": [
    "stops = pd.read_csv('stops.txt')"
   ]
  },
  {
   "cell_type": "code",
   "execution_count": 3,
   "id": "fae80e98-c774-4581-98c5-d87b49a21b88",
   "metadata": {},
   "outputs": [],
   "source": [
    "orange_line_stops = stops[(stops['platform_name'] == 'Orange Line') | (stops['platform_name'] == 'Forest Hills') | (stops['platform_name'] == 'Oak Grove') | stops['stop_id'].str.contains('Forest Hills-0') | stops['stop_id'].str.contains('Oak Grove-0')]"
   ]
  },
  {
   "cell_type": "code",
   "execution_count": 4,
   "id": "e031c9ee-445e-4c90-8f89-4d8840d0d94d",
   "metadata": {},
   "outputs": [
    {
     "name": "stdout",
     "output_type": "stream",
     "text": [
      "Current Stop: Haymarket\n",
      "Current Stop: Wellington\n",
      "Current Stop: Forest Hills\n",
      "Current Stop: Roxbury Crossing\n",
      "Current Stop: Downtown Crossing\n",
      "Current Stop: Tufts Medical Center\n",
      "Current Stop: Oak Grove\n",
      "Current Stop: Back Bay\n",
      "Current Stop: Roxbury Crossing\n",
      "Current Stop: Haymarket\n",
      "Current Stop: Sullivan Square\n",
      "Current Stop: Forest Hills\n"
     ]
    }
   ],
   "source": [
    "feed = gtfs_realtime_pb2.FeedMessage()\n",
    "response = urlopen('https://cdn.mbta.com/realtime/VehiclePositions.pb')\n",
    "feed.ParseFromString(response.read())\n",
    "feed_dict = protobuf_to_dict(feed)\n",
    "vehicle_df = pd.json_normalize(feed_dict['entity'])\n",
    "filtered_vehicles = vehicle_df[vehicle_df['vehicle.trip.route_id'] == 'Orange']\n",
    "for ind, vehicle in filtered_vehicles.iterrows():\n",
    "    print('Current Stop: ' + orange_line_stops[orange_line_stops['stop_id'] == vehicle['vehicle.stop_id']]['stop_name'].values[0])"
   ]
  }
 ],
 "metadata": {
  "kernelspec": {
   "display_name": "Python 3 (ipykernel)",
   "language": "python",
   "name": "python3"
  },
  "language_info": {
   "codemirror_mode": {
    "name": "ipython",
    "version": 3
   },
   "file_extension": ".py",
   "mimetype": "text/x-python",
   "name": "python",
   "nbconvert_exporter": "python",
   "pygments_lexer": "ipython3",
   "version": "3.11.4"
  }
 },
 "nbformat": 4,
 "nbformat_minor": 5
}
